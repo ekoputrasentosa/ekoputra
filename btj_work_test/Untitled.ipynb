{
 "cells": [
  {
   "cell_type": "code",
   "execution_count": 6,
   "id": "70e02092",
   "metadata": {},
   "outputs": [
    {
     "name": "stdout",
     "output_type": "stream",
     "text": [
      "Path destination - /mnt/storage/ultimate/nbpa/radio/huawei/5G/RAN5G_KPI_Hourly/20221027\n",
      "FIle Destination - /mnt/storage/ultimate/nbpa/radio/huawei/5G/RAN5G_KPI_Hourly/20221027/A20221020.2300+0700-0000+0700_kpi_10-212-86-7.parquet\n"
     ]
    }
   ],
   "source": [
    "import os\n",
    "from conf import ETLConf\n",
    "import datetime\n",
    "import re\n",
    "\n",
    "HOST_TARGET_PARQUET = {\n",
    "    \"host\": \"10.54.18.250\",\n",
    "    \"port\": 22,\n",
    "    \"method\": \"sftp\",\n",
    "    \"username\": \"nbpa\",\n",
    "    \"password\": \"nbpa@123\",\n",
    "    \"path\": \"/mnt/storage/ultimate/nbpa/radio/\"\n",
    "}\n",
    "\n",
    "now = datetime.datetime.now()\n",
    "\n",
    "host_target = HOST_TARGET_PARQUET\n",
    "\n",
    "etl_conf = ETLConf(\"5G_RAN_HUA_1\")\n",
    "\n",
    "path_destination_remote = os.path.join(\n",
    "    host_target[\"path\"],\n",
    "    etl_conf.etl_type.vendor,\n",
    "    etl_conf.etl_type.radio,\n",
    "    etl_conf.etl_type.kpi_hadoop_output_dir.split(\"/\")[-3],\n",
    "    now.strftime(\"%Y%m%d\"),\n",
    ")\n",
    "\n",
    "parquet_filename = \"A20221020.2300+0700-0000+0700_kpi_10-212-86-7_adc2e23aca52e63fdbc492465f8d6610.parquet\"\n",
    "\n",
    "remote_destination_filename = os.path.join(\n",
    "    path_destination_remote,\n",
    "    re.findall(r\"^(A.*)\\_.*\", parquet_filename)[0] + \".parquet\",\n",
    ")\n",
    "\n",
    "print(\"Path destination -\",path_destination_remote)\n",
    "print(\"FIle Destination -\",remote_destination_filename)"
   ]
  },
  {
   "cell_type": "code",
   "execution_count": null,
   "id": "5ee5815a",
   "metadata": {},
   "outputs": [],
   "source": []
  }
 ],
 "metadata": {
  "kernelspec": {
   "display_name": "Python 3 (ipykernel)",
   "language": "python",
   "name": "python3"
  },
  "language_info": {
   "codemirror_mode": {
    "name": "ipython",
    "version": 3
   },
   "file_extension": ".py",
   "mimetype": "text/x-python",
   "name": "python",
   "nbconvert_exporter": "python",
   "pygments_lexer": "ipython3",
   "version": "3.8.10"
  }
 },
 "nbformat": 4,
 "nbformat_minor": 5
}
